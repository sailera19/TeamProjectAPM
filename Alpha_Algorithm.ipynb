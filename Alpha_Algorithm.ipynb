{
 "cells": [
  {
   "cell_type": "markdown",
   "metadata": {},
   "source": [
    "# Alpha Algorithm"
   ]
  },
  {
   "cell_type": "code",
   "execution_count": 1,
   "metadata": {},
   "outputs": [],
   "source": [
    "import pandas as pd\n",
    "from collections import defaultdict"
   ]
  },
  {
   "cell_type": "code",
   "execution_count": 2,
   "metadata": {},
   "outputs": [],
   "source": [
    "# aalst traces\n",
    "#traces = [\n",
    "#    [\"a\", \"b\", \"c\", \"d\"],\n",
    "#    [\"a\", \"c\", \"b\", \"d\"],\n",
    "#    [\"a\", \"e\", \"d\"]\n",
    "#]\n",
    "\n",
    "# rehse traces\n",
    "traces = [\n",
    "    [\"a\", \"c\", \"d\", \"e\"],\n",
    "    [\"b\", \"c\", \"d\", \"e\"],\n",
    "    [\"a\", \"c\", \"e\", \"d\"],\n",
    "    [\"b\", \"c\", \"e\", \"d\"]\n",
    "]"
   ]
  },
  {
   "cell_type": "code",
   "execution_count": 3,
   "metadata": {},
   "outputs": [],
   "source": [
    "def get_activities(traces):\n",
    "    \"\"\"\n",
    "    Get activity informations from traces.\n",
    "    Returns set for all_activities, start_activities, end_activities and dict for direct_successions\n",
    "    \"\"\"\n",
    "    start_activities = set()\n",
    "    end_activities = set()\n",
    "    all_activities = set()\n",
    "    \n",
    "    direct_successions = defaultdict(set)\n",
    "    \n",
    "    # go through all our traces\n",
    "    for trace in traces:\n",
    "        # add start and end activities\n",
    "        start_activities.add(trace[0])\n",
    "        end_activities.add(trace[-1])\n",
    "        \n",
    "        # add activities of trace to all activities\n",
    "        all_activities.update(trace)\n",
    "        \n",
    "        # go through all activities in our trace and \n",
    "        for idx, activity in enumerate(trace[1:], start=1):\n",
    "            direct_successions[trace[idx - 1]].add(activity)\n",
    "    \n",
    "    return all_activities, start_activities, end_activities, direct_successions"
   ]
  },
  {
   "cell_type": "code",
   "execution_count": 4,
   "metadata": {},
   "outputs": [],
   "source": [
    "all_activities, start_activities, end_activities, direct_successions = get_activities(traces)"
   ]
  },
  {
   "cell_type": "markdown",
   "metadata": {},
   "source": [
    "## Step 1\n",
    "![Step 1](img/Step_1.png)\n",
    "\n",
    "#### Set of All Activities"
   ]
  },
  {
   "cell_type": "code",
   "execution_count": 5,
   "metadata": {},
   "outputs": [
    {
     "data": {
      "text/plain": [
       "{'a', 'b', 'c', 'd', 'e'}"
      ]
     },
     "execution_count": 5,
     "metadata": {},
     "output_type": "execute_result"
    }
   ],
   "source": [
    "all_activities"
   ]
  },
  {
   "cell_type": "markdown",
   "metadata": {},
   "source": [
    "## Step 2\n",
    "![Step 2](img/Step_2.png)\n",
    "\n",
    "#### Set of Start Activities"
   ]
  },
  {
   "cell_type": "code",
   "execution_count": 6,
   "metadata": {},
   "outputs": [
    {
     "data": {
      "text/plain": [
       "{'a', 'b'}"
      ]
     },
     "execution_count": 6,
     "metadata": {},
     "output_type": "execute_result"
    }
   ],
   "source": [
    "start_activities"
   ]
  },
  {
   "cell_type": "markdown",
   "metadata": {},
   "source": [
    "## Step 3\n",
    "![Step 3](img/Step_3.png)\n",
    "\n",
    "#### Set of End Activities"
   ]
  },
  {
   "cell_type": "code",
   "execution_count": 7,
   "metadata": {},
   "outputs": [
    {
     "data": {
      "text/plain": [
       "{'d', 'e'}"
      ]
     },
     "execution_count": 7,
     "metadata": {},
     "output_type": "execute_result"
    }
   ],
   "source": [
    "end_activities"
   ]
  },
  {
   "cell_type": "markdown",
   "metadata": {},
   "source": [
    "## Step 4\n",
    "![Step 4](img/Step_4.png)\n",
    "\n",
    "\n",
    "#### Create Footprint Matrix"
   ]
  },
  {
   "cell_type": "code",
   "execution_count": 8,
   "metadata": {},
   "outputs": [],
   "source": [
    "def get_footprint(all_activities, direct_successions):\n",
    "    all_activities = sorted(list(all_activities))\n",
    "    footprint = []\n",
    "    \n",
    "    for x in all_activities:\n",
    "        row = []\n",
    "        for y in all_activities:\n",
    "            x_follows_y = x in direct_successions[y]\n",
    "            y_follows_x = y in direct_successions[x]\n",
    "            \n",
    "            if y_follows_x and not x_follows_y:\n",
    "                row.append(\"→\")\n",
    "            elif x_follows_y and not y_follows_x:\n",
    "                row.append(\"←\")\n",
    "            elif x_follows_y and y_follows_x:\n",
    "                row.append(\"||\")\n",
    "            else:\n",
    "                row.append(\"#\")\n",
    "        footprint.append(row)\n",
    "        \n",
    "    footprint_df = pd.DataFrame(footprint, columns=all_activities, index=all_activities)\n",
    "    return footprint_df"
   ]
  },
  {
   "cell_type": "code",
   "execution_count": 9,
   "metadata": {},
   "outputs": [
    {
     "data": {
      "text/html": [
       "<div>\n",
       "<style scoped>\n",
       "    .dataframe tbody tr th:only-of-type {\n",
       "        vertical-align: middle;\n",
       "    }\n",
       "\n",
       "    .dataframe tbody tr th {\n",
       "        vertical-align: top;\n",
       "    }\n",
       "\n",
       "    .dataframe thead th {\n",
       "        text-align: right;\n",
       "    }\n",
       "</style>\n",
       "<table border=\"1\" class=\"dataframe\">\n",
       "  <thead>\n",
       "    <tr style=\"text-align: right;\">\n",
       "      <th></th>\n",
       "      <th>a</th>\n",
       "      <th>b</th>\n",
       "      <th>c</th>\n",
       "      <th>d</th>\n",
       "      <th>e</th>\n",
       "    </tr>\n",
       "  </thead>\n",
       "  <tbody>\n",
       "    <tr>\n",
       "      <th>a</th>\n",
       "      <td>#</td>\n",
       "      <td>#</td>\n",
       "      <td>→</td>\n",
       "      <td>#</td>\n",
       "      <td>#</td>\n",
       "    </tr>\n",
       "    <tr>\n",
       "      <th>b</th>\n",
       "      <td>#</td>\n",
       "      <td>#</td>\n",
       "      <td>→</td>\n",
       "      <td>#</td>\n",
       "      <td>#</td>\n",
       "    </tr>\n",
       "    <tr>\n",
       "      <th>c</th>\n",
       "      <td>←</td>\n",
       "      <td>←</td>\n",
       "      <td>#</td>\n",
       "      <td>→</td>\n",
       "      <td>→</td>\n",
       "    </tr>\n",
       "    <tr>\n",
       "      <th>d</th>\n",
       "      <td>#</td>\n",
       "      <td>#</td>\n",
       "      <td>←</td>\n",
       "      <td>#</td>\n",
       "      <td>||</td>\n",
       "    </tr>\n",
       "    <tr>\n",
       "      <th>e</th>\n",
       "      <td>#</td>\n",
       "      <td>#</td>\n",
       "      <td>←</td>\n",
       "      <td>||</td>\n",
       "      <td>#</td>\n",
       "    </tr>\n",
       "  </tbody>\n",
       "</table>\n",
       "</div>"
      ],
      "text/plain": [
       "   a  b  c   d   e\n",
       "a  #  #  →   #   #\n",
       "b  #  #  →   #   #\n",
       "c  ←  ←  #   →   →\n",
       "d  #  #  ←   #  ||\n",
       "e  #  #  ←  ||   #"
      ]
     },
     "execution_count": 9,
     "metadata": {},
     "output_type": "execute_result"
    }
   ],
   "source": [
    "footprint = get_footprint(all_activities, direct_successions)\n",
    "footprint"
   ]
  },
  {
   "cell_type": "markdown",
   "metadata": {},
   "source": [
    "#### Get all Pairs"
   ]
  },
  {
   "cell_type": "code",
   "execution_count": 10,
   "metadata": {},
   "outputs": [],
   "source": [
    "def is_mergeable(p, q):\n",
    "    \"\"\"Check if two pairs are mergeable\"\"\"\n",
    "    \n",
    "    for pa in p[0]:\n",
    "        # every activity in a must be #-(choice)-relation with every other element in a\n",
    "        for qa in q[0]:\n",
    "            if footprint[qa][pa] != \"#\":\n",
    "                return False\n",
    "        \n",
    "        # every activity in a must be in →-(causality)-relation with every activity in b\n",
    "        for qb in q[1]:\n",
    "            if footprint[qb][pa] != \"→\":\n",
    "                return False\n",
    "    \n",
    "    for pb in p[1]:\n",
    "        # every activity in b must be #-(choice)-relation with every other element in b\n",
    "        for qb in q[1]:\n",
    "            if footprint[pb][qb] != \"#\":\n",
    "                return False\n",
    "\n",
    "        # every activity in a must be in →-(causality)-relation with every activity in b\n",
    "        for qa in q[0]:\n",
    "            if footprint[pb][qa] != \"→\":\n",
    "                return False\n",
    "            \n",
    "    return True\n",
    "              \n",
    "def merge_pairs(p, q):\n",
    "    a = set(p[0])\n",
    "    a.update(q[0])\n",
    "    \n",
    "    b = set(p[1])\n",
    "    b.update(q[1])\n",
    "\n",
    "    return (a, b)\n",
    "    \n",
    "def find_pairs(footprint):\n",
    "    # get all →-(causality)-relations\n",
    "    pairs = [({footprint[col][footprint[col] == \"→\"].index[i]}, {col}) \n",
    "             for col in footprint.columns for i in range(len(footprint[col][footprint[col] == '→'].index))]\n",
    "    idx = 0\n",
    "    while idx < len(pairs):\n",
    "        p = pairs[idx]\n",
    "        for q in pairs[idx+1:]:\n",
    "            # check if the pairs can be merged\n",
    "            if is_mergeable(p, q):\n",
    "                # create and add the merged pair to pairs\n",
    "                merged_pair = merge_pairs(p, q)\n",
    "                if merged_pair not in pairs:\n",
    "                    pairs.append(merged_pair)\n",
    "        idx += 1\n",
    "    return pairs"
   ]
  },
  {
   "cell_type": "code",
   "execution_count": 11,
   "metadata": {},
   "outputs": [
    {
     "data": {
      "text/plain": [
       "[({'a'}, {'c'}),\n",
       " ({'b'}, {'c'}),\n",
       " ({'c'}, {'d'}),\n",
       " ({'c'}, {'e'}),\n",
       " ({'a', 'b'}, {'c'})]"
      ]
     },
     "execution_count": 11,
     "metadata": {},
     "output_type": "execute_result"
    }
   ],
   "source": [
    "all_pairs = find_pairs(footprint)\n",
    "all_pairs"
   ]
  },
  {
   "cell_type": "markdown",
   "metadata": {},
   "source": [
    "## Step 5\n",
    "![Step 5](img/Step_5.png)\n",
    "\n",
    "#### Remove non-maximal Pairs"
   ]
  },
  {
   "cell_type": "code",
   "execution_count": 12,
   "metadata": {},
   "outputs": [
    {
     "data": {
      "text/plain": [
       "[({'c'}, {'d'}), ({'c'}, {'e'}), ({'a', 'b'}, {'c'})]"
      ]
     },
     "execution_count": 12,
     "metadata": {},
     "output_type": "execute_result"
    }
   ],
   "source": [
    "def remove_non_maximal_pairs(pairs):\n",
    "    pairs = pairs.copy()\n",
    "    idx = 0\n",
    "    while idx < len(pairs) - 1:\n",
    "        p = pairs[idx]\n",
    "        non_max = False\n",
    "        for q in pairs[idx+1:]:\n",
    "            # check if current pair is a subset of another pair, if yes, remove pair\n",
    "            if p[0].issubset(q[0]) and p[1].issubset(q[1]):\n",
    "                pairs.pop(idx)\n",
    "                non_max = True\n",
    "                break\n",
    "        if not non_max:\n",
    "            idx += 1\n",
    "    return pairs\n",
    "               \n",
    "maximal_pairs = remove_non_maximal_pairs(all_pairs)\n",
    "maximal_pairs"
   ]
  },
  {
   "cell_type": "markdown",
   "metadata": {},
   "source": [
    "## Step 6 - 9\n",
    "![Step 6-8](img/Step_6-8.png)"
   ]
  },
  {
   "cell_type": "markdown",
   "metadata": {},
   "source": [
    "#### Create a PetriNet"
   ]
  },
  {
   "cell_type": "code",
   "execution_count": 13,
   "metadata": {},
   "outputs": [],
   "source": [
    "from pm4py.objects.petri.obj import PetriNet, Marking\n",
    "from pm4py.objects.petri import utils\n",
    "from pm4py.visualization.petrinet import visualizer as pn_visualizer\n",
    "\n",
    "net = PetriNet(\"Example: Rehse\")"
   ]
  },
  {
   "cell_type": "markdown",
   "metadata": {},
   "source": [
    "#### Add Initial and Final Place"
   ]
  },
  {
   "cell_type": "code",
   "execution_count": 14,
   "metadata": {},
   "outputs": [],
   "source": [
    "# create and add places\n",
    "source = PetriNet.Place(\"start\")\n",
    "net.places.add(source)\n",
    "sink = PetriNet.Place(\"end\")\n",
    "net.places.add(sink)\n",
    "\n",
    "# add tokens\n",
    "initial_marking = Marking()\n",
    "initial_marking[source] = 1\n",
    "final_marking = Marking()\n",
    "final_marking[sink] = 1"
   ]
  },
  {
   "cell_type": "markdown",
   "metadata": {},
   "source": [
    "#### Add Transitions for all Activities"
   ]
  },
  {
   "cell_type": "code",
   "execution_count": 15,
   "metadata": {},
   "outputs": [],
   "source": [
    "transitionMap = {}\n",
    "for activity in all_activities:\n",
    "    transition = PetriNet.Transition(activity, activity)\n",
    "    net.transitions.add(transition)\n",
    "    transitionMap[activity] = transition"
   ]
  },
  {
   "cell_type": "markdown",
   "metadata": {},
   "source": [
    "#### Add Input Arc from Start Place (Source) to Start Activities/Transitions"
   ]
  },
  {
   "cell_type": "code",
   "execution_count": 16,
   "metadata": {},
   "outputs": [],
   "source": [
    "for activity in start_activities:\n",
    "    utils.add_arc_from_to(source, transitionMap[activity], net)\n",
    "    "
   ]
  },
  {
   "cell_type": "markdown",
   "metadata": {},
   "source": [
    "#### Add Output Arc from End Activities/Transitions to End Place (Sink)"
   ]
  },
  {
   "cell_type": "code",
   "execution_count": 17,
   "metadata": {},
   "outputs": [],
   "source": [
    "for activity in end_activities:\n",
    "    utils.add_arc_from_to(transitionMap[activity], sink, net)"
   ]
  },
  {
   "cell_type": "markdown",
   "metadata": {},
   "source": [
    "#### Add Input and Output Arcs for all our Pairs"
   ]
  },
  {
   "cell_type": "code",
   "execution_count": 18,
   "metadata": {},
   "outputs": [],
   "source": [
    "for idx, pair in enumerate(maximal_pairs, start=1):\n",
    "    place = PetriNet.Place(\"p%d\"%idx)\n",
    "    net.places.add(place)\n",
    "    \n",
    "    for a in pair[0]:\n",
    "        utils.add_arc_from_to(transitionMap[a], place, net)\n",
    "    \n",
    "    for b in pair[1]:\n",
    "        utils.add_arc_from_to(place, transitionMap[b], net)"
   ]
  },
  {
   "cell_type": "markdown",
   "metadata": {},
   "source": [
    "#### Draw our PetriNet"
   ]
  },
  {
   "cell_type": "code",
   "execution_count": 19,
   "metadata": {},
   "outputs": [
    {
     "data": {
      "image/png": "[encoded data removed]",
      "text/plain": [
       "<IPython.core.display.Image object>"
      ]
     },
     "metadata": {},
     "output_type": "display_data"
    }
   ],
   "source": [
    "gviz = pn_visualizer.apply(net, initial_marking, final_marking)\n",
    "pn_visualizer.view(gviz)"
   ]
  },
  {
   "cell_type": "code",
   "execution_count": null,
   "metadata": {},
   "outputs": [],
   "source": []
  }
 ],
 "metadata": {
  "kernelspec": {
   "display_name": "Python 3",
   "language": "python",
   "name": "python3"
  },
  "language_info": {
   "codemirror_mode": {
    "name": "ipython",
    "version": 3
   },
   "file_extension": ".py",
   "mimetype": "text/x-python",
   "name": "python",
   "nbconvert_exporter": "python",
   "pygments_lexer": "ipython3",
   "version": "3.8.3"
  }
 },
 "nbformat": 4,
 "nbformat_minor": 4
}